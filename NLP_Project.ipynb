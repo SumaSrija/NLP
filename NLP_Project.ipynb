{
  "nbformat": 4,
  "nbformat_minor": 0,
  "metadata": {
    "colab": {
      "provenance": []
    },
    "kernelspec": {
      "name": "python3",
      "display_name": "Python 3"
    },
    "language_info": {
      "name": "python"
    }
  },
  "cells": [
    {
      "cell_type": "code",
      "source": [
        "import nltk\n",
        "nltk.download('punkt')\n",
        "nltk.download('stopwords')\n",
        "nltk.download('wordnet')\n"
      ],
      "metadata": {
        "colab": {
          "base_uri": "https://localhost:8080/"
        },
        "id": "e8NaHVUmKwOQ",
        "outputId": "083a514d-c01d-48ca-840f-228573140c6d"
      },
      "execution_count": null,
      "outputs": [
        {
          "output_type": "stream",
          "name": "stderr",
          "text": [
            "[nltk_data] Downloading package punkt to /root/nltk_data...\n",
            "[nltk_data]   Unzipping tokenizers/punkt.zip.\n",
            "[nltk_data] Downloading package stopwords to /root/nltk_data...\n",
            "[nltk_data]   Unzipping corpora/stopwords.zip.\n",
            "[nltk_data] Downloading package wordnet to /root/nltk_data...\n"
          ]
        },
        {
          "output_type": "execute_result",
          "data": {
            "text/plain": [
              "True"
            ]
          },
          "metadata": {},
          "execution_count": 1
        }
      ]
    },
    {
      "cell_type": "code",
      "execution_count": null,
      "metadata": {
        "colab": {
          "base_uri": "https://localhost:8080/"
        },
        "id": "SlRdLQAuHpMX",
        "outputId": "131f8c5c-48b8-48fc-e4ca-c224dfb5ae71"
      },
      "outputs": [
        {
          "output_type": "stream",
          "name": "stdout",
          "text": [
            "              precision    recall  f1-score   support\n",
            "\n",
            "           0       1.00      0.99      0.99       856\n",
            "           1       0.98      0.99      0.98       290\n",
            "\n",
            "    accuracy                           0.99      1146\n",
            "   macro avg       0.99      0.99      0.99      1146\n",
            "weighted avg       0.99      0.99      0.99      1146\n",
            "\n"
          ]
        }
      ],
      "source": [
        "import pandas as pd\n",
        "from sklearn.model_selection import train_test_split\n",
        "from sklearn.feature_extraction.text import CountVectorizer\n",
        "from sklearn.naive_bayes import MultinomialNB\n",
        "from sklearn.metrics import classification_report\n",
        "from nltk.tokenize import word_tokenize\n",
        "from nltk.corpus import stopwords\n",
        "from nltk.stem import WordNetLemmatizer\n",
        "import re\n",
        "\n",
        "data = pd.read_csv(\"emails.csv\")\n",
        "\n",
        "stop_words = set(stopwords.words('english'))\n",
        "lemmatizer = WordNetLemmatizer()\n",
        "\n",
        "def preprocess_text(text):\n",
        "    text = re.sub(r'[^a-zA-Z]', ' ', text.lower())\n",
        "    tokens = word_tokenize(text)\n",
        "    filtered_tokens = [lemmatizer.lemmatize(token) for token in tokens if token not in stop_words]\n",
        "    return ' '.join(filtered_tokens)\n",
        "\n",
        "data['processed_text'] = data['text'].apply(preprocess_text)\n",
        "\n",
        "vectorizer = CountVectorizer()\n",
        "X = vectorizer.fit_transform(data['processed_text'])\n",
        "y = data['spam']\n",
        "\n",
        "X_train, X_test, y_train, y_test = train_test_split(X, y, test_size=0.2, random_state=42)\n",
        "\n",
        "model = MultinomialNB()\n",
        "model.fit(X_train, y_train)\n",
        "\n",
        "y_pred = model.predict(X_test)\n",
        "print(classification_report(y_test, y_pred))\n",
        "\n"
      ]
    },
    {
      "cell_type": "code",
      "source": [
        "random_text = \"Get rich quick! Click here to win a million dollars!!!\"\n",
        "preprocessed_text = preprocess_text(random_text)\n",
        "\n",
        "text_vector = vectorizer.transform([preprocessed_text])\n",
        "\n",
        "prediction = model.predict(text_vector)\n",
        "\n",
        "if prediction[0] == 1:\n",
        "    print(\"The text is classified as spam.\")\n",
        "else:\n",
        "    print(\"The text is not classified as spam.\")"
      ],
      "metadata": {
        "colab": {
          "base_uri": "https://localhost:8080/"
        },
        "id": "_zhT0B0YLm6T",
        "outputId": "29335a8c-042f-475d-e075-3e0cbbfe970c"
      },
      "execution_count": null,
      "outputs": [
        {
          "output_type": "stream",
          "name": "stdout",
          "text": [
            "The text is classified as spam.\n"
          ]
        }
      ]
    },
    {
      "cell_type": "code",
      "source": [
        "nrml_text = \"Hello, i am balaji\"\n",
        "preprocessed_text = preprocess_text(nrml_text)\n",
        "\n",
        "text_vector = vectorizer.transform([preprocessed_text])\n",
        "\n",
        "prediction = model.predict(text_vector)\n",
        "\n",
        "if prediction[0] == 1:\n",
        "    print(\"The text is classified as spam.\")\n",
        "else:\n",
        "    print(\"The text is not classified as spam.\")"
      ],
      "metadata": {
        "colab": {
          "base_uri": "https://localhost:8080/"
        },
        "id": "PaDXACPfLwQ9",
        "outputId": "ab0b52a9-a681-4a67-a79c-2dbf035d38d8"
      },
      "execution_count": null,
      "outputs": [
        {
          "output_type": "stream",
          "name": "stdout",
          "text": [
            "The text is not classified as spam.\n"
          ]
        }
      ]
    }
  ]
}